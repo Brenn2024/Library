{
  "nbformat": 4,
  "nbformat_minor": 0,
  "metadata": {
    "colab": {
      "provenance": [],
      "authorship_tag": "ABX9TyOBHNt+9Dt9b95PWDV27nZt",
      "include_colab_link": true
    },
    "kernelspec": {
      "name": "python3",
      "display_name": "Python 3"
    },
    "language_info": {
      "name": "python"
    }
  },
  "cells": [
    {
      "cell_type": "markdown",
      "metadata": {
        "id": "view-in-github",
        "colab_type": "text"
      },
      "source": [
        "<a href=\"https://colab.research.google.com/github/Brenn2024/Library/blob/main/simpy.ipynb\" target=\"_parent\"><img src=\"https://colab.research.google.com/assets/colab-badge.svg\" alt=\"Open In Colab\"/></a>"
      ]
    },
    {
      "cell_type": "markdown",
      "source": [
        "### Constant inter-arrival time scenario"
      ],
      "metadata": {
        "id": "sGQ4NcERAj1Z"
      }
    },
    {
      "cell_type": "code",
      "execution_count": 1,
      "metadata": {
        "colab": {
          "base_uri": "https://localhost:8080/"
        },
        "id": "RypGEpvM_jOe",
        "outputId": "0d8f32f2-def4-40a5-d716-3c29c7b00b31"
      },
      "outputs": [
        {
          "output_type": "stream",
          "name": "stdout",
          "text": [
            "Collecting simpy\n",
            "  Downloading simpy-4.1.1-py3-none-any.whl.metadata (6.1 kB)\n",
            "Downloading simpy-4.1.1-py3-none-any.whl (27 kB)\n",
            "Installing collected packages: simpy\n",
            "Successfully installed simpy-4.1.1\n"
          ]
        }
      ],
      "source": [
        "!pip install simpy\n"
      ]
    },
    {
      "cell_type": "code",
      "source": [
        "import simpy\n",
        "import numpy as np\n",
        "\n",
        "CUST_INTER_ARR_TIME = 2*60\n",
        "env = simpy.Environment()\n",
        "\n",
        "def customer(env,name):\n",
        "  print(f'{name}:Arrives at time {env.now}')\n",
        "  yield env.timeout(30)\n",
        "  print(f'Details entered at time: {env.now}')\n",
        "  yield env.timeout(60)\n",
        "  print(f'Cash retrieved at time: {env.now}')\n",
        "\n",
        "def customer_generator(env,cust_inter_arr_time):\n",
        "  cust_number = 1\n",
        "  while True:\n",
        "    yield env.timeout(cust_inter_arr_time)\n",
        "    env.process(customer(env=env,name=f\"customer {cust_number}\"))\n",
        "    cust_number+=1\n",
        "\n",
        "env.process(customer_generator(env=env,cust_inter_arr_time=CUST_INTER_ARR_TIME))\n",
        "\n",
        "env.run(until=10*60)\n",
        "\n"
      ],
      "metadata": {
        "colab": {
          "base_uri": "https://localhost:8080/"
        },
        "id": "6Vwlk0w3PMYJ",
        "outputId": "11235131-f182-44fc-e9e1-9c9d7742f910"
      },
      "execution_count": 6,
      "outputs": [
        {
          "output_type": "stream",
          "name": "stdout",
          "text": [
            "customer 1:Arrives at time 120\n",
            "Details entered at time: 150\n",
            "Cash retrieved at time: 210\n",
            "customer 2:Arrives at time 240\n",
            "Details entered at time: 270\n",
            "Cash retrieved at time: 330\n",
            "customer 3:Arrives at time 360\n",
            "Details entered at time: 390\n",
            "Cash retrieved at time: 450\n",
            "customer 4:Arrives at time 480\n",
            "Details entered at time: 510\n",
            "Cash retrieved at time: 570\n"
          ]
        }
      ]
    },
    {
      "cell_type": "markdown",
      "source": [
        "### Random inter-arrival time scenario"
      ],
      "metadata": {
        "id": "DL7-Go14lzyl"
      }
    },
    {
      "cell_type": "code",
      "source": [
        "import simpy\n",
        "import random\n",
        "\n",
        "\n",
        "env = simpy.Environment()\n",
        "\n",
        "def customer(env,name):\n",
        "  print(f'{name}:Arrives at time {env.now:.2f}')\n",
        "  yield env.timeout(30)\n",
        "  print(f'Details entered at time: {env.now:.2f}')\n",
        "  yield env.timeout(60)\n",
        "  print(f'Cash retrieved at time: {env.now:.2f}')\n",
        "\n",
        "def customer_generator(env,):\n",
        "  cust_number = 1\n",
        "  while True:\n",
        "    random_inter_arrival_time = random.uniform(1,3)*60\n",
        "    yield env.timeout(random_inter_arrival_time)\n",
        "    env.process(customer(env=env,name=f\"customer {cust_number}\"))\n",
        "    cust_number+=1\n",
        "\n",
        "env.process(customer_generator(env=env))\n",
        "\n",
        "env.run(until=10*60)"
      ],
      "metadata": {
        "colab": {
          "base_uri": "https://localhost:8080/"
        },
        "id": "c5FrFWbVcKih",
        "outputId": "0689184a-ff2c-4f8f-ff48-18d28dde10cf"
      },
      "execution_count": 10,
      "outputs": [
        {
          "output_type": "stream",
          "name": "stdout",
          "text": [
            "customer 1:Arrives at time 162.26\n",
            "Details entered at time: 192.26\n",
            "Cash retrieved at time: 252.26\n",
            "customer 2:Arrives at time 280.84\n",
            "Details entered at time: 310.84\n",
            "Cash retrieved at time: 370.84\n",
            "customer 3:Arrives at time 436.65\n",
            "Details entered at time: 466.65\n",
            "Cash retrieved at time: 526.65\n",
            "customer 4:Arrives at time 581.45\n"
          ]
        }
      ]
    },
    {
      "cell_type": "markdown",
      "source": [
        "### Resources"
      ],
      "metadata": {
        "id": "O_tBrT-tmcue"
      }
    },
    {
      "cell_type": "code",
      "source": [
        "import simpy\n",
        "import random\n",
        "\n",
        "def customer(env,name,atm):\n",
        "  print(f'{name}:Arrives at time {env.now:.2f}')\n",
        "  with atm.request() as atm_req:\n",
        "    yield atm_req\n",
        "    print(f'{name}: gets ATM machine at time {env.now:.2f}')\n",
        "    yield env.timeout(30)\n",
        "    print(f'{name} Details entered at time: {env.now:.2f}')\n",
        "    yield env.timeout(60)\n",
        "    print(f'{name} Cash retrieved at time: {env.now:.2f}')\n",
        "\n",
        "\n",
        "def customer_generator(env,atm):\n",
        "  cust_number = 1\n",
        "  while True:\n",
        "    random_inter_arrival_time = random.uniform(1,3)*60\n",
        "    yield env.timeout(random_inter_arrival_time)\n",
        "    env.process(customer(env=env,name=f\"customer {cust_number}\",atm=atm))\n",
        "    cust_number+=1\n",
        "random.seed(2)\n",
        "\n",
        "env = simpy.Environment()\n",
        "atm = simpy.Resource(env=env,capacity=1)\n",
        "env.process(customer_generator(env=env,atm=atm))\n",
        "\n",
        "env.run(until=10*60)"
      ],
      "metadata": {
        "colab": {
          "base_uri": "https://localhost:8080/"
        },
        "id": "GpK2HL61mkGM",
        "outputId": "eaa1be3e-3e8b-4a09-d973-fe287fb9da2d"
      },
      "execution_count": 5,
      "outputs": [
        {
          "output_type": "stream",
          "name": "stdout",
          "text": [
            "customer 1:Arrives at time 174.72\n",
            "customer 1: gets ATM machine at time 174.72\n",
            "customer 1 Details entered at time: 204.72\n",
            "customer 1 Cash retrieved at time: 264.72\n",
            "customer 2:Arrives at time 348.46\n",
            "customer 2: gets ATM machine at time 348.46\n",
            "customer 2 Details entered at time: 378.46\n",
            "customer 3:Arrives at time 415.25\n",
            "customer 2 Cash retrieved at time: 438.46\n",
            "customer 3: gets ATM machine at time 438.46\n",
            "customer 3 Details entered at time: 468.46\n",
            "customer 4:Arrives at time 485.43\n",
            "customer 3 Cash retrieved at time: 528.46\n",
            "customer 4: gets ATM machine at time 528.46\n",
            "customer 4 Details entered at time: 558.46\n"
          ]
        }
      ]
    },
    {
      "cell_type": "markdown",
      "source": [
        "### Data Analysis"
      ],
      "metadata": {
        "id": "PASfoN4oJ2KU"
      }
    },
    {
      "cell_type": "code",
      "source": [
        "import simpy\n",
        "import random\n",
        "import numpy as np\n",
        "\n",
        "SIM_TIME = 24*60*60\n",
        "WARMUP_TIME = 1*60*60\n",
        "\n",
        "ct_simulation = []\n",
        "ct_replication = []\n",
        "waiting_time_simulation = []\n",
        "waiting_time_replication = []\n",
        "throughput_simulation = []\n",
        "\n",
        "def customer(env,name,atm):\n",
        "  # print(f'{name}:Arrives at time {env.now:.2f}')\n",
        "  customer_enter_time = env.now\n",
        "  with atm.request() as atm_req:\n",
        "    yield atm_req\n",
        "    customer_got_atm = env.now\n",
        "    # print(f'{name}: gets ATM machine at time {env.now:.2f}')\n",
        "    yield env.timeout(30)\n",
        "    # print(f'{name} Details entered at time: {env.now:.2f}')\n",
        "    yield env.timeout(60)\n",
        "    # print(f'{name} Cash retrieved at time: {env.now:.2f}')\n",
        "\n",
        "  if env.now > WARMUP_TIME:\n",
        "    waiting_time_replication.append(customer_got_atm - customer_enter_time)\n",
        "    ct_replication.append(env.now - customer_enter_time)\n",
        "\n",
        "\n",
        "\n",
        "\n",
        "def customer_generator(env,atm):\n",
        "  cust_number = 1\n",
        "  while True:\n",
        "    random_inter_arrival_time = random.uniform(0,1)*60\n",
        "    yield env.timeout(random_inter_arrival_time)\n",
        "    env.process(customer(env=env,name=f\"customer {cust_number}\",atm=atm))\n",
        "    cust_number+=1\n",
        "\n",
        "for r in range(50):\n",
        "  random.seed(r)\n",
        "\n",
        "  env = simpy.Environment()\n",
        "  atm = simpy.Resource(env=env,capacity=1)\n",
        "  env.process(customer_generator(env=env,atm=atm))\n",
        "\n",
        "  env.run(until=SIM_TIME)\n",
        "\n",
        "  ct_simulation.append(np.mean(ct_replication))\n",
        "  waiting_time_simulation.append(np.mean(waiting_time_replication))\n",
        "\n",
        "  num_customers = len(ct_replication)\n",
        "  throughput_simulation.append(num_customers/(SIM_TIME-WARMUP_TIME))\n",
        "\n",
        "  ct_replication = []\n",
        "  waiting_time_replication = []\n",
        "\n",
        "print(f'Average Cycle Time: {np.mean(ct_simulation)/60 :.2f} minutes +/- {np.std(ct_simulation)/60 :.2f} minutes')\n",
        "print(f'Average Waiting Time: {np.mean(waiting_time_simulation)/60 :.2f} minutes +/- {np.std(waiting_time_simulation)/60 :.2f} minutes')\n",
        "print(f'Average Throughput Rate: {np.mean(throughput_simulation)*60*60 :.2f} customers/hr +/- {np.std(throughput_simulation)*60*60 :.2f} customers/hour')\n"
      ],
      "metadata": {
        "colab": {
          "base_uri": "https://localhost:8080/"
        },
        "id": "v3PbobSKJ7FY",
        "outputId": "b05ae635-64aa-40e1-b584-57b5a45d2ebf"
      },
      "execution_count": 3,
      "outputs": [
        {
          "output_type": "stream",
          "name": "stdout",
          "text": [
            "Average Cycle Time: 500.53 minutes +/- 5.77 minutes\n",
            "Average Waiting Time: 499.03 minutes +/- 5.77 minutes\n",
            "Average Throughput Rate: 40.00 customers/hr +/- 0.00 customers/hour\n"
          ]
        }
      ]
    },
    {
      "cell_type": "markdown",
      "source": [
        "### Investigations on how many ATMs to Install"
      ],
      "metadata": {
        "id": "PbDpFD4due6s"
      }
    },
    {
      "cell_type": "code",
      "source": [
        "import simpy\n",
        "import random\n",
        "import numpy as np\n",
        "\n",
        "SIM_TIME = 24*60*60\n",
        "WARMUP_TIME = 1*60*60\n",
        "\n",
        "ct_simulation = []\n",
        "ct_replication = []\n",
        "waiting_time_simulation = []\n",
        "waiting_time_replication = []\n",
        "throughput_simulation = []\n",
        "\n",
        "num_atms = [1,2,3,4,5,6]\n",
        "ct_atms = []\n",
        "throughput_atms = []\n",
        "\n",
        "def customer(env,name,atm):\n",
        "  # print(f'{name}:Arrives at time {env.now:.2f}')\n",
        "  customer_enter_time = env.now\n",
        "  with atm.request() as atm_req:\n",
        "    yield atm_req\n",
        "    customer_got_atm = env.now\n",
        "    # print(f'{name}: gets ATM machine at time {env.now:.2f}')\n",
        "    yield env.timeout(30)\n",
        "    # print(f'{name} Details entered at time: {env.now:.2f}')\n",
        "    yield env.timeout(60)\n",
        "    # print(f'{name} Cash retrieved at time: {env.now:.2f}')\n",
        "\n",
        "  if env.now > WARMUP_TIME:\n",
        "    waiting_time_replication.append(customer_got_atm - customer_enter_time)\n",
        "    ct_replication.append(env.now - customer_enter_time)\n",
        "\n",
        "\n",
        "\n",
        "\n",
        "def customer_generator(env,atm):\n",
        "  cust_number = 1\n",
        "  while True:\n",
        "    random_inter_arrival_time = random.uniform(0,1)*60\n",
        "    yield env.timeout(random_inter_arrival_time)\n",
        "    env.process(customer(env=env,name=f\"customer {cust_number}\",atm=atm))\n",
        "    cust_number+=1\n",
        "for atm_cap in num_atms:\n",
        "  for r in range(50):\n",
        "    random.seed(r)\n",
        "\n",
        "    env = simpy.Environment()\n",
        "    atm = simpy.Resource(env=env,capacity=atm_cap)\n",
        "    env.process(customer_generator(env=env,atm=atm))\n",
        "\n",
        "    env.run(until=SIM_TIME)\n",
        "\n",
        "    ct_simulation.append(np.mean(ct_replication))\n",
        "    waiting_time_simulation.append(np.mean(waiting_time_replication))\n",
        "\n",
        "    num_customers = len(ct_replication)\n",
        "    throughput_simulation.append(num_customers/(SIM_TIME-WARMUP_TIME))\n",
        "\n",
        "    ct_replication = []\n",
        "    waiting_time_replication = []\n",
        "\n",
        "  ct_atms.append(np.mean(ct_simulation)/60)\n",
        "  throughput_atms.append(np.mean(throughput_simulation)*60*60)\n",
        "\n",
        "  ct_simulation = []\n",
        "  throughput_simulation = []\n",
        "\n"
      ],
      "metadata": {
        "id": "WddgKCyCukba"
      },
      "execution_count": 5,
      "outputs": []
    },
    {
      "cell_type": "code",
      "source": [
        "import matplotlib.pyplot as plt\n",
        "plt.plot(num_atms,ct_atms)\n",
        "plt.title(f'Avg CT versus ATMS')\n",
        "plt.xlabel('Number of ATMs')\n",
        "plt.ylabel('AVerage Cycle time(minutes)')\n",
        "plt.show();"
      ],
      "metadata": {
        "colab": {
          "base_uri": "https://localhost:8080/",
          "height": 472
        },
        "id": "MFi8Xzrgyznk",
        "outputId": "977e9348-e90b-4f95-8c7f-cdf462841490"
      },
      "execution_count": 6,
      "outputs": [
        {
          "output_type": "display_data",
          "data": {
            "text/plain": [
              "<Figure size 640x480 with 1 Axes>"
            ],
            "image/png": "[encoded data removed]"
          },
          "metadata": {}
        }
      ]
    },
    {
      "cell_type": "markdown",
      "source": [],
      "metadata": {
        "id": "mP8P3AWlQHSm"
      }
    },
    {
      "cell_type": "code",
      "source": [
        "import matplotlib.pyplot as plt\n",
        "plt.plot(num_atms,throughput_atms)\n",
        "plt.title(f'Avg throughput rate versus ATMS')\n",
        "plt.xlabel('Number of ATMs')\n",
        "plt.ylabel('Average throughput rate (customer/hour)')\n",
        "plt.show();"
      ],
      "metadata": {
        "colab": {
          "base_uri": "https://localhost:8080/",
          "height": 472
        },
        "id": "xqC4jChTzoRs",
        "outputId": "1dd1a8be-5234-4e38-ee07-f9fd661a44b6"
      },
      "execution_count": 7,
      "outputs": [
        {
          "output_type": "display_data",
          "data": {
            "text/plain": [
              "<Figure size 640x480 with 1 Axes>"
            ],
            "image/png": "[encoded data removed]"
          },
          "metadata": {}
        }
      ]
    }
  ]
}